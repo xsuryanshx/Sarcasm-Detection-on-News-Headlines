{
  "nbformat": 4,
  "nbformat_minor": 0,
  "metadata": {
    "colab": {
      "name": "sarcasm detection.ipynb",
      "provenance": [],
      "collapsed_sections": [],
      "authorship_tag": "ABX9TyMvaTxrB8CjzComyAhqiz/n",
      "include_colab_link": true
    },
    "kernelspec": {
      "name": "python3",
      "display_name": "Python 3"
    }
  },
  "cells": [
    {
      "cell_type": "markdown",
      "metadata": {
        "id": "view-in-github",
        "colab_type": "text"
      },
      "source": [
        "<a href=\"https://colab.research.google.com/github/xsuryanshx/Sarcasm-Detection-on-News-Headlines/blob/main/sarcasm_detection.ipynb\" target=\"_parent\"><img src=\"https://colab.research.google.com/assets/colab-badge.svg\" alt=\"Open In Colab\"/></a>"
      ]
    },
    {
      "cell_type": "code",
      "metadata": {
        "colab": {
          "base_uri": "https://localhost:8080/"
        },
        "id": "23j9WHw7ZKjx",
        "outputId": "821e53f3-931c-496a-c4aa-b8b5395369b1"
      },
      "source": [
        "!wget https://raw.githubusercontent.com/rishabhmisra/News-Headlines-Dataset-For-Sarcasm-Detection/master/Sarcasm_Headlines_Dataset.json"
      ],
      "execution_count": 84,
      "outputs": [
        {
          "output_type": "stream",
          "text": [
            "--2020-12-26 20:41:12--  https://raw.githubusercontent.com/rishabhmisra/News-Headlines-Dataset-For-Sarcasm-Detection/master/Sarcasm_Headlines_Dataset.json\n",
            "Resolving raw.githubusercontent.com (raw.githubusercontent.com)... 151.101.0.133, 151.101.64.133, 151.101.128.133, ...\n",
            "Connecting to raw.githubusercontent.com (raw.githubusercontent.com)|151.101.0.133|:443... connected.\n",
            "HTTP request sent, awaiting response... 200 OK\n",
            "Length: 6057046 (5.8M) [text/plain]\n",
            "Saving to: ‘Sarcasm_Headlines_Dataset.json’\n",
            "\n",
            "\r          Sarcasm_H   0%[                    ]       0  --.-KB/s               \rSarcasm_Headlines_D 100%[===================>]   5.78M  --.-KB/s    in 0.1s    \n",
            "\n",
            "2020-12-26 20:41:13 (46.0 MB/s) - ‘Sarcasm_Headlines_Dataset.json’ saved [6057046/6057046]\n",
            "\n"
          ],
          "name": "stdout"
        }
      ]
    },
    {
      "cell_type": "code",
      "metadata": {
        "colab": {
          "base_uri": "https://localhost:8080/"
        },
        "id": "m6u3HUUuZk_Z",
        "outputId": "833b8cdd-402a-4fdf-9112-cf0e3c4d5481"
      },
      "source": [
        "from sklearn.model_selection import train_test_split\r\n",
        "from sklearn.preprocessing import StandardScaler\r\n",
        "import nltk\r\n",
        "nltk.download('wordnet')\r\n",
        "from nltk.corpus import stopwords\r\n",
        "from nltk.stem import WordNetLemmatizer \r\n",
        "lemmatizer = WordNetLemmatizer() \r\n",
        "import pandas as pd\r\n",
        "import numpy as np\r\n",
        "from sklearn.metrics import confusion_matrix \r\n",
        "from sklearn.metrics import accuracy_score \r\n",
        "from sklearn.metrics import classification_report \r\n",
        "import seaborn as sns\r\n",
        "from sklearn.feature_extraction.text import CountVectorizer\r\n",
        "import re\r\n",
        "!pip install wordninja\r\n",
        "import wordninja"
      ],
      "execution_count": 100,
      "outputs": [
        {
          "output_type": "stream",
          "text": [
            "[nltk_data] Downloading package wordnet to /root/nltk_data...\n",
            "[nltk_data]   Package wordnet is already up-to-date!\n",
            "Requirement already satisfied: wordninja in /usr/local/lib/python3.6/dist-packages (2.0.0)\n"
          ],
          "name": "stdout"
        }
      ]
    },
    {
      "cell_type": "code",
      "metadata": {
        "id": "LBcngzs1ZVDh"
      },
      "source": [
        "data = pd.read_json('/content/Sarcasm_Headlines_Dataset.json', lines=True)\r\n",
        "df = pd.DataFrame(data)"
      ],
      "execution_count": 86,
      "outputs": []
    },
    {
      "cell_type": "code",
      "metadata": {
        "colab": {
          "base_uri": "https://localhost:8080/",
          "height": 206
        },
        "id": "V0CQ_U9xefOG",
        "outputId": "d77a4b5c-6a0a-4403-ca23-29e56b01b69d"
      },
      "source": [
        "df.head()"
      ],
      "execution_count": 89,
      "outputs": [
        {
          "output_type": "execute_result",
          "data": {
            "text/html": [
              "<div>\n",
              "<style scoped>\n",
              "    .dataframe tbody tr th:only-of-type {\n",
              "        vertical-align: middle;\n",
              "    }\n",
              "\n",
              "    .dataframe tbody tr th {\n",
              "        vertical-align: top;\n",
              "    }\n",
              "\n",
              "    .dataframe thead th {\n",
              "        text-align: right;\n",
              "    }\n",
              "</style>\n",
              "<table border=\"1\" class=\"dataframe\">\n",
              "  <thead>\n",
              "    <tr style=\"text-align: right;\">\n",
              "      <th></th>\n",
              "      <th>is_sarcastic</th>\n",
              "      <th>headline</th>\n",
              "      <th>article_link</th>\n",
              "    </tr>\n",
              "  </thead>\n",
              "  <tbody>\n",
              "    <tr>\n",
              "      <th>0</th>\n",
              "      <td>1</td>\n",
              "      <td>thirtysomething scientists unveil doomsday clo...</td>\n",
              "      <td>https://www.theonion.com/thirtysomething-scien...</td>\n",
              "    </tr>\n",
              "    <tr>\n",
              "      <th>1</th>\n",
              "      <td>0</td>\n",
              "      <td>dem rep. totally nails why congress is falling...</td>\n",
              "      <td>https://www.huffingtonpost.com/entry/donna-edw...</td>\n",
              "    </tr>\n",
              "    <tr>\n",
              "      <th>2</th>\n",
              "      <td>0</td>\n",
              "      <td>eat your veggies: 9 deliciously different recipes</td>\n",
              "      <td>https://www.huffingtonpost.com/entry/eat-your-...</td>\n",
              "    </tr>\n",
              "    <tr>\n",
              "      <th>3</th>\n",
              "      <td>1</td>\n",
              "      <td>inclement weather prevents liar from getting t...</td>\n",
              "      <td>https://local.theonion.com/inclement-weather-p...</td>\n",
              "    </tr>\n",
              "    <tr>\n",
              "      <th>4</th>\n",
              "      <td>1</td>\n",
              "      <td>mother comes pretty close to using word 'strea...</td>\n",
              "      <td>https://www.theonion.com/mother-comes-pretty-c...</td>\n",
              "    </tr>\n",
              "  </tbody>\n",
              "</table>\n",
              "</div>"
            ],
            "text/plain": [
              "   is_sarcastic  ...                                       article_link\n",
              "0             1  ...  https://www.theonion.com/thirtysomething-scien...\n",
              "1             0  ...  https://www.huffingtonpost.com/entry/donna-edw...\n",
              "2             0  ...  https://www.huffingtonpost.com/entry/eat-your-...\n",
              "3             1  ...  https://local.theonion.com/inclement-weather-p...\n",
              "4             1  ...  https://www.theonion.com/mother-comes-pretty-c...\n",
              "\n",
              "[5 rows x 3 columns]"
            ]
          },
          "metadata": {
            "tags": []
          },
          "execution_count": 89
        }
      ]
    },
    {
      "cell_type": "code",
      "metadata": {
        "id": "buTAd9LBoCx_"
      },
      "source": [
        "new_heading = []\r\n",
        "for i in df['headline']:\r\n",
        "  i = re.sub(\"[^a-zA-Z']\", ' ',i)\r\n",
        "  i = re.sub(\"[']\", '',i).replace('  ',' ')\r\n",
        "  sent = i.lower().split()\r\n",
        "  new_sent = []\r\n",
        "  for i in sent:\r\n",
        "    for i in wordninja.split(i):\r\n",
        "      new_sent.append(i)\r\n",
        "  for j in range(len(new_sent)):\r\n",
        "    new_sent[j] = lemmatizer.lemmatize(new_sent[j])\r\n",
        "  i = ' '.join(new_sent)\r\n",
        "  new_heading.append(i)\r\n",
        "df['new_heading'] = new_heading"
      ],
      "execution_count": 103,
      "outputs": []
    },
    {
      "cell_type": "code",
      "metadata": {
        "colab": {
          "base_uri": "https://localhost:8080/",
          "height": 206
        },
        "id": "CCPDW8Pxp4jl",
        "outputId": "96f8e4e4-d2e8-4d8f-f273-5e62107ef944"
      },
      "source": [
        "df.head()"
      ],
      "execution_count": 114,
      "outputs": [
        {
          "output_type": "execute_result",
          "data": {
            "text/html": [
              "<div>\n",
              "<style scoped>\n",
              "    .dataframe tbody tr th:only-of-type {\n",
              "        vertical-align: middle;\n",
              "    }\n",
              "\n",
              "    .dataframe tbody tr th {\n",
              "        vertical-align: top;\n",
              "    }\n",
              "\n",
              "    .dataframe thead th {\n",
              "        text-align: right;\n",
              "    }\n",
              "</style>\n",
              "<table border=\"1\" class=\"dataframe\">\n",
              "  <thead>\n",
              "    <tr style=\"text-align: right;\">\n",
              "      <th></th>\n",
              "      <th>is_sarcastic</th>\n",
              "      <th>headline</th>\n",
              "      <th>article_link</th>\n",
              "      <th>new_heading</th>\n",
              "    </tr>\n",
              "  </thead>\n",
              "  <tbody>\n",
              "    <tr>\n",
              "      <th>0</th>\n",
              "      <td>1</td>\n",
              "      <td>thirtysomething scientists unveil doomsday clo...</td>\n",
              "      <td>https://www.theonion.com/thirtysomething-scien...</td>\n",
              "      <td>thirty something scientist unveil doomsday clo...</td>\n",
              "    </tr>\n",
              "    <tr>\n",
              "      <th>1</th>\n",
              "      <td>0</td>\n",
              "      <td>dem rep. totally nails why congress is falling...</td>\n",
              "      <td>https://www.huffingtonpost.com/entry/donna-edw...</td>\n",
              "      <td>dem rep totally nail why congress is falling s...</td>\n",
              "    </tr>\n",
              "    <tr>\n",
              "      <th>2</th>\n",
              "      <td>0</td>\n",
              "      <td>eat your veggies: 9 deliciously different recipes</td>\n",
              "      <td>https://www.huffingtonpost.com/entry/eat-your-...</td>\n",
              "      <td>eat your veggie deliciously different recipe</td>\n",
              "    </tr>\n",
              "    <tr>\n",
              "      <th>3</th>\n",
              "      <td>1</td>\n",
              "      <td>inclement weather prevents liar from getting t...</td>\n",
              "      <td>https://local.theonion.com/inclement-weather-p...</td>\n",
              "      <td>inclement weather prevents liar from getting t...</td>\n",
              "    </tr>\n",
              "    <tr>\n",
              "      <th>4</th>\n",
              "      <td>1</td>\n",
              "      <td>mother comes pretty close to using word 'strea...</td>\n",
              "      <td>https://www.theonion.com/mother-comes-pretty-c...</td>\n",
              "      <td>mother come pretty close to using word streami...</td>\n",
              "    </tr>\n",
              "  </tbody>\n",
              "</table>\n",
              "</div>"
            ],
            "text/plain": [
              "   is_sarcastic  ...                                        new_heading\n",
              "0             1  ...  thirty something scientist unveil doomsday clo...\n",
              "1             0  ...  dem rep totally nail why congress is falling s...\n",
              "2             0  ...       eat your veggie deliciously different recipe\n",
              "3             1  ...  inclement weather prevents liar from getting t...\n",
              "4             1  ...  mother come pretty close to using word streami...\n",
              "\n",
              "[5 rows x 4 columns]"
            ]
          },
          "metadata": {
            "tags": []
          },
          "execution_count": 114
        }
      ]
    },
    {
      "cell_type": "code",
      "metadata": {
        "id": "XKldTj77jFLP"
      },
      "source": [
        "from sklearn.metrics import confusion_matrix \r\n",
        "from sklearn.metrics import accuracy_score \r\n",
        "from sklearn.metrics import classification_report \r\n",
        "import seaborn as sns"
      ],
      "execution_count": 106,
      "outputs": []
    },
    {
      "cell_type": "code",
      "metadata": {
        "id": "gcQK3-FZjSVD"
      },
      "source": [
        "from sklearn.feature_extraction.text import CountVectorizer,TfidfTransformer\r\n",
        "from sklearn.pipeline import Pipeline\r\n",
        "from sklearn.naive_bayes import MultinomialNB\r\n",
        "from sklearn.ensemble import RandomForestClassifier\r\n",
        "pipeline = Pipeline([\r\n",
        "    ('bow',CountVectorizer()),\r\n",
        "    ('tfidf',TfidfTransformer()),\r\n",
        "    ('classifier',MultinomialNB())\r\n",
        "])"
      ],
      "execution_count": 107,
      "outputs": []
    },
    {
      "cell_type": "code",
      "metadata": {
        "id": "rVFYqOGQnbpu"
      },
      "source": [
        "X = df['new_heading']\r\n",
        "Y = df['is_sarcastic']"
      ],
      "execution_count": 108,
      "outputs": []
    },
    {
      "cell_type": "code",
      "metadata": {
        "id": "tINI2S1MnhGH"
      },
      "source": [
        "X_train,X_test,y_train,y_test = train_test_split(X,Y,test_size = 0.3)"
      ],
      "execution_count": 109,
      "outputs": []
    },
    {
      "cell_type": "code",
      "metadata": {
        "colab": {
          "base_uri": "https://localhost:8080/"
        },
        "id": "T_00vkbTtMEv",
        "outputId": "a7131c14-3cf1-47be-dea9-6adf2c4005c8"
      },
      "source": [
        "pipeline.fit(X_train,y_train)"
      ],
      "execution_count": 110,
      "outputs": [
        {
          "output_type": "execute_result",
          "data": {
            "text/plain": [
              "Pipeline(memory=None,\n",
              "         steps=[('bow',\n",
              "                 CountVectorizer(analyzer='word', binary=False,\n",
              "                                 decode_error='strict',\n",
              "                                 dtype=<class 'numpy.int64'>, encoding='utf-8',\n",
              "                                 input='content', lowercase=True, max_df=1.0,\n",
              "                                 max_features=None, min_df=1,\n",
              "                                 ngram_range=(1, 1), preprocessor=None,\n",
              "                                 stop_words=None, strip_accents=None,\n",
              "                                 token_pattern='(?u)\\\\b\\\\w\\\\w+\\\\b',\n",
              "                                 tokenizer=None, vocabulary=None)),\n",
              "                ('tfidf',\n",
              "                 TfidfTransformer(norm='l2', smooth_idf=True,\n",
              "                                  sublinear_tf=False, use_idf=True)),\n",
              "                ('classifier',\n",
              "                 MultinomialNB(alpha=1.0, class_prior=None, fit_prior=True))],\n",
              "         verbose=False)"
            ]
          },
          "metadata": {
            "tags": []
          },
          "execution_count": 110
        }
      ]
    },
    {
      "cell_type": "code",
      "metadata": {
        "id": "wZX8uGOptRvI"
      },
      "source": [
        "predictions = pipeline.predict(X_test)"
      ],
      "execution_count": 111,
      "outputs": []
    },
    {
      "cell_type": "code",
      "metadata": {
        "colab": {
          "base_uri": "https://localhost:8080/",
          "height": 465
        },
        "id": "_nq97uaJtWlO",
        "outputId": "7844b4de-adb4-4bb8-991f-0890c75659da"
      },
      "source": [
        "from sklearn.metrics import confusion_matrix,classification_report\r\n",
        "group_names = ['True Neg','False Pos','False Neg','True Pos']\r\n",
        "results = confusion_matrix(y_test, predictions) \r\n",
        "group_counts = ['{0:0.0f}'.format(value) for value in results.flatten()]\r\n",
        "group_percentages = ['{0:.2%}'.format(value) for value in results.flatten()/np.sum(results)]\r\n",
        "labels = [f\"{v1}\\n{v2}\\n{v3}\" for v1, v2, v3 in zip(group_names,group_counts,group_percentages)]\r\n",
        "labels = np.asarray(labels).reshape(2,2)\r\n",
        "sns.heatmap(results, annot=labels, fmt='', cmap='Blues')\r\n",
        "print('Accuracy Score :',accuracy_score(y_test, predictions))\r\n",
        "print('Report : ')\r\n",
        "print(classification_report(y_test, predictions))"
      ],
      "execution_count": 112,
      "outputs": [
        {
          "output_type": "stream",
          "text": [
            "Accuracy Score : 0.8276263685068717\n",
            "Report : \n",
            "              precision    recall  f1-score   support\n",
            "\n",
            "           0       0.79      0.90      0.84      4434\n",
            "           1       0.88      0.75      0.81      4152\n",
            "\n",
            "    accuracy                           0.83      8586\n",
            "   macro avg       0.83      0.83      0.83      8586\n",
            "weighted avg       0.83      0.83      0.83      8586\n",
            "\n"
          ],
          "name": "stdout"
        },
        {
          "output_type": "display_data",
          "data": {
            "image/png": "[encoded data removed]",
            "text/plain": [
              "<Figure size 432x288 with 2 Axes>"
            ]
          },
          "metadata": {
            "tags": [],
            "needs_background": "light"
          }
        }
      ]
    },
    {
      "cell_type": "code",
      "metadata": {
        "id": "_NAow-iC3R_A"
      },
      "source": [
        ""
      ],
      "execution_count": null,
      "outputs": []
    }
  ]
}